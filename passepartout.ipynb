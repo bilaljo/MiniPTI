{
 "cells": [
  {
   "cell_type": "code",
   "execution_count": 1,
   "id": "fe3a854a",
   "metadata": {},
   "outputs": [],
   "source": [
    "import pandas as pd\n",
    "import numpy as np\n",
    "from scipy import optimize\n",
    "from matplotlib import pyplot as plt\n",
    "import matplotlib.ticker as tck\n",
    "from multiprocessing import Pool, cpu_count"
   ]
  },
  {
   "cell_type": "code",
   "execution_count": 2,
   "id": "a33a01db",
   "metadata": {},
   "outputs": [],
   "source": [
    "data = pd.read_csv(\"data.csv\")\n",
    "phase_scan = pd.read_csv(\"dc.csv\")\n",
    "heating_voltage = phase_scan[\"Heating\"].to_numpy().T\n",
    "detector_1 = data[\"Norm DC1 (V)\"] # phase_scan[\"Detector 1\"].to_numpy().T\n",
    "detector_2 = data[\"Norm DC2 (V)\"] #phase_scan[\"Detector 2\"].to_numpy().T\n",
    "detector_3 = data[\"Norm DC3 (V)\"] #phase_scan[\"Detector 3\"].to_numpy().T\n",
    "\n"
   ]
  },
  {
   "cell_type": "code",
   "execution_count": 3,
   "id": "134f7290",
   "metadata": {},
   "outputs": [
    {
     "data": {
      "text/plain": [
       "'plt.plot(heating_voltage, detector_1, label=\"Detector 1\")\\nplt.plot(heating_voltage, detector_2, label=\"Detector 2\")\\nplt.plot(heating_voltage, detector_3, label=\"Detector 3\")\\nplt.xlabel(\"Heating Voltage [V]\", fontsize=12)\\nplt.ylabel(\"Detector Voltage [V]\", fontsize=12)\\nplt.legend(fontsize=12, bbox_to_anchor=(1,1))\\nplt.grid(True)\\nplt.title(\"Phase Scan\", fontsize=12)\\nplt.show()'"
      ]
     },
     "execution_count": 3,
     "metadata": {},
     "output_type": "execute_result"
    }
   ],
   "source": [
    "\"\"\"plt.plot(heating_voltage, detector_1, label=\"Detector 1\")\n",
    "plt.plot(heating_voltage, detector_2, label=\"Detector 2\")\n",
    "plt.plot(heating_voltage, detector_3, label=\"Detector 3\")\n",
    "plt.xlabel(\"Heating Voltage [V]\", fontsize=12)\n",
    "plt.ylabel(\"Detector Voltage [V]\", fontsize=12)\n",
    "plt.legend(fontsize=12, bbox_to_anchor=(1,1))\n",
    "plt.grid(True)\n",
    "plt.title(\"Phase Scan\", fontsize=12)\n",
    "plt.show()\"\"\""
   ]
  },
  {
   "cell_type": "code",
   "execution_count": 4,
   "id": "25eef27e",
   "metadata": {},
   "outputs": [],
   "source": [
    "def scale_edata(data):\n",
    "    return 2 * (data - min(data)) / (max(data) - min(data)) - 1"
   ]
  },
  {
   "cell_type": "code",
   "execution_count": 5,
   "id": "0934e347",
   "metadata": {},
   "outputs": [],
   "source": [
    "I_min = [min(detector_1), min(detector_2), min(detector_3)]\n",
    "I_max = [max(detector_1), max(detector_2), max(detector_3)]\n",
    "dc_scaled = [detector_1, detector_2, detector_3] #[2 * (detector_1 - I_min[0]) / (I_max[0] - I_min[0]) - 1,\n",
    "            # 2 * (detector_2 - I_min[1]) / (I_max[1] - I_min[1]) - 1,\n",
    "            # 2 * (detector_3 - I_min[2]) / (I_max[2] - I_min[2]) - 1]"
   ]
  },
  {
   "cell_type": "code",
   "execution_count": 6,
   "id": "e9d96b74",
   "metadata": {},
   "outputs": [
    {
     "data": {
      "text/plain": [
       "'plt.plot(heating_voltage, dc_scaled[0], label=\"Detector 1\")\\nplt.plot(heating_voltage, dc_scaled[1], label=\"Detector 2\")\\nplt.plot(heating_voltage, dc_scaled[2], label=\"Detector 3\")\\nplt.legend(fontsize=12, bbox_to_anchor=(1,1))\\nplt.grid(True)\\nplt.xlabel(\"Heating Voltage [V]\", fontsize=12)\\nplt.ylabel(\"Scaled Voltage\", fontsize=12)\\nplt.title(\"Scaled DC-Signals\", fontsize=12)\\nplt.show()'"
      ]
     },
     "execution_count": 6,
     "metadata": {},
     "output_type": "execute_result"
    }
   ],
   "source": [
    "\"\"\"plt.plot(heating_voltage, dc_scaled[0], label=\"Detector 1\")\n",
    "plt.plot(heating_voltage, dc_scaled[1], label=\"Detector 2\")\n",
    "plt.plot(heating_voltage, dc_scaled[2], label=\"Detector 3\")\n",
    "plt.legend(fontsize=12, bbox_to_anchor=(1,1))\n",
    "plt.grid(True)\n",
    "plt.xlabel(\"Heating Voltage [V]\", fontsize=12)\n",
    "plt.ylabel(\"Scaled Voltage\", fontsize=12)\n",
    "plt.title(\"Scaled DC-Signals\", fontsize=12)\n",
    "plt.show()\"\"\""
   ]
  },
  {
   "cell_type": "code",
   "execution_count": 7,
   "id": "871c1968",
   "metadata": {},
   "outputs": [
    {
     "data": {
      "text/plain": [
       "'f,ax=plt.subplots(1)\\nax.xaxis.set_major_formatter(tck.FormatStrFormatter(\\'%d $\\\\pi$\\'))\\nax.plot((heating_voltage - heating_voltage[0])  / heating_voltage[96] * 2 * np.pi, dc_scaled[0], label=\"Detector 1\")\\nax.plot((heating_voltage - heating_voltage[0])  / heating_voltage[96] * 2 * np.pi, dc_scaled[1], label=\"Detector 2\")\\nax.plot((heating_voltage - heating_voltage[0])  / heating_voltage[96] * 2 * np.pi, dc_scaled[2], label=\"Detector 3\")\\n\\n\\n\\nprint(np.where(1- dc_scaled[0] < 1e-2)[0])\\nprint(np.where(1- dc_scaled[1] < 1e-2)[0])\\nprint(np.where(1- dc_scaled[2] < 1e-2)[0])\\n\\nprint(0)\\nprint(50 / 96 * 360 - 103 / 96 * 360 + 360)\\nprint(93 / 96 * 2 * np.pi / np.pi * 180 - 103 / 96 * 360 + 360)\\nplt.legend(fontsize=12, bbox_to_anchor=(1,1))\\nplt.grid(True)\\nplt.xlabel(\"Heating Voltage [V]\", fontsize=12)\\nplt.ylabel(\"Scaled Voltage\", fontsize=12)\\nplt.title(\"Scaled DC-Signals\", fontsize=12)\\nplt.show()'"
      ]
     },
     "execution_count": 7,
     "metadata": {},
     "output_type": "execute_result"
    }
   ],
   "source": [
    "\"\"\"f,ax=plt.subplots(1)\n",
    "ax.xaxis.set_major_formatter(tck.FormatStrFormatter('%d $\\pi$'))\n",
    "ax.plot((heating_voltage - heating_voltage[0])  / heating_voltage[96] * 2 * np.pi, dc_scaled[0], label=\"Detector 1\")\n",
    "ax.plot((heating_voltage - heating_voltage[0])  / heating_voltage[96] * 2 * np.pi, dc_scaled[1], label=\"Detector 2\")\n",
    "ax.plot((heating_voltage - heating_voltage[0])  / heating_voltage[96] * 2 * np.pi, dc_scaled[2], label=\"Detector 3\")\n",
    "\n",
    "\n",
    "\n",
    "print(np.where(1- dc_scaled[0] < 1e-2)[0])\n",
    "print(np.where(1- dc_scaled[1] < 1e-2)[0])\n",
    "print(np.where(1- dc_scaled[2] < 1e-2)[0])\n",
    "\n",
    "print(0)\n",
    "print(50 / 96 * 360 - 103 / 96 * 360 + 360)\n",
    "print(93 / 96 * 2 * np.pi / np.pi * 180 - 103 / 96 * 360 + 360)\n",
    "plt.legend(fontsize=12, bbox_to_anchor=(1,1))\n",
    "plt.grid(True)\n",
    "plt.xlabel(\"Heating Voltage [V]\", fontsize=12)\n",
    "plt.ylabel(\"Scaled Voltage\", fontsize=12)\n",
    "plt.title(\"Scaled DC-Signals\", fontsize=12)\n",
    "plt.show()\"\"\""
   ]
  },
  {
   "cell_type": "code",
   "execution_count": 8,
   "id": "1365bb2d",
   "metadata": {},
   "outputs": [],
   "source": [
    "def ellipse(z):\n",
    "    x = []\n",
    "    y = []\n",
    "    for i in range(len(dc_scaled[0])):\n",
    "        i_0 = dc_scaled[0][i]\n",
    "        i_1 = dc_scaled[1][i]\n",
    "        i_2 = dc_scaled[2][i]\n",
    "        x.append(i_0 + i_1 * np.cos(z[0]) + i_2 * np.cos(z[1]))\n",
    "        y.append(i_1 * np.sin(z[0]) + i_2 * np.sin(z[1]))\n",
    "    x, y = np.array(x), np.array(y)\n",
    "    return x, y"
   ]
  },
  {
   "cell_type": "code",
   "execution_count": 9,
   "id": "029e1858",
   "metadata": {},
   "outputs": [],
   "source": [
    "def standard_deviation_circle(z):\n",
    "  x, y = ellipse(z)\n",
    "  return np.var(x ** 2 + y ** 2)"
   ]
  },
  {
   "cell_type": "code",
   "execution_count": 10,
   "id": "55f3bed5",
   "metadata": {},
   "outputs": [],
   "source": [
    "res = optimize.minimize(standard_deviation_circle, x0=np.array([2 * np.pi / 3, 4 * np.pi / 3]))\n",
    "x, y = ellipse(res.x)\n",
    "x_c, y_c = ellipse([1.3752388782, 2.7990878396])\n",
    "x_fast, y_fast = ellipse([1.3752388781, 2.7990878396])\n",
    "phi_d = [0, 1.3752388784, 2.7990878398]"
   ]
  },
  {
   "cell_type": "code",
   "execution_count": null,
   "id": "1f4a5fcb",
   "metadata": {},
   "outputs": [
    {
     "ename": "TypeError",
     "evalue": "'numpy.float64' object is not iterable",
     "output_type": "error",
     "traceback": [
      "\u001b[0;31m---------------------------------------------------------------------------\u001b[0m",
      "\u001b[0;31mTypeError\u001b[0m                                 Traceback (most recent call last)",
      "Input \u001b[0;32mIn [18]\u001b[0m, in \u001b[0;36m<module>\u001b[0;34m\u001b[0m\n\u001b[0;32m----> 1\u001b[0m \u001b[38;5;28mprint\u001b[39m(\u001b[38;5;124mf\u001b[39m\u001b[38;5;124m\"\u001b[39m\u001b[38;5;124mDifference max x and y: x = \u001b[39m\u001b[38;5;132;01m{\u001b[39;00m\u001b[38;5;28mabs\u001b[39m(\u001b[38;5;28mmax\u001b[39m(x) \u001b[38;5;241m-\u001b[39m \u001b[38;5;28mmax\u001b[39m(y))\u001b[38;5;132;01m}\u001b[39;00m\u001b[38;5;124m \u001b[39m\u001b[38;5;130;01m\\\u001b[39;00m\n\u001b[1;32m      2\u001b[0m \u001b[38;5;124m        \u001b[39m\u001b[38;5;130;01m\\n\u001b[39;00m\u001b[38;5;124mDifference min x and y: x = \u001b[39m\u001b[38;5;132;01m{\u001b[39;00m\u001b[38;5;28mabs\u001b[39m(\u001b[38;5;28mmin\u001b[39m(x) \u001b[38;5;241m-\u001b[39m \u001b[38;5;28mmin\u001b[39m(y))\u001b[38;5;132;01m}\u001b[39;00m\u001b[38;5;124m\"\u001b[39m)\n\u001b[1;32m      3\u001b[0m \u001b[38;5;28mprint\u001b[39m(\u001b[38;5;124mf\u001b[39m\u001b[38;5;124m\"\u001b[39m\u001b[38;5;124mSystem phases are \u001b[39m\u001b[38;5;132;01m{\u001b[39;00mres\u001b[38;5;241m.\u001b[39mx[\u001b[38;5;241m0\u001b[39m] \u001b[38;5;241m/\u001b[39m np\u001b[38;5;241m.\u001b[39mpi \u001b[38;5;241m*\u001b[39m \u001b[38;5;241m180\u001b[39m\u001b[38;5;132;01m}\u001b[39;00m\u001b[38;5;124m° and \u001b[39m\u001b[38;5;132;01m{\u001b[39;00mres\u001b[38;5;241m.\u001b[39mx[\u001b[38;5;241m1\u001b[39m] \u001b[38;5;241m/\u001b[39m np\u001b[38;5;241m.\u001b[39mpi \u001b[38;5;241m*\u001b[39m \u001b[38;5;241m180\u001b[39m\u001b[38;5;132;01m}\u001b[39;00m\u001b[38;5;124m°\u001b[39m\u001b[38;5;124m\"\u001b[39m)\n\u001b[1;32m      4\u001b[0m \u001b[38;5;28mprint\u001b[39m(\u001b[38;5;124mf\u001b[39m\u001b[38;5;124m\"\u001b[39m\u001b[38;5;124mDifference max x and y: x = \u001b[39m\u001b[38;5;132;01m{\u001b[39;00m\u001b[38;5;28mabs\u001b[39m(\u001b[38;5;28mmax\u001b[39m(x_c) \u001b[38;5;241m-\u001b[39m \u001b[38;5;28mmax\u001b[39m(y_c))\u001b[38;5;132;01m}\u001b[39;00m\u001b[38;5;124m \u001b[39m\u001b[38;5;130;01m\\\u001b[39;00m\n\u001b[1;32m      5\u001b[0m \u001b[38;5;124m        \u001b[39m\u001b[38;5;130;01m\\n\u001b[39;00m\u001b[38;5;124mDifference min x and y: x = \u001b[39m\u001b[38;5;132;01m{\u001b[39;00m\u001b[38;5;28mabs\u001b[39m(\u001b[38;5;28mmin\u001b[39m(x_c) \u001b[38;5;241m-\u001b[39m \u001b[38;5;28mmin\u001b[39m(y_c))\u001b[38;5;132;01m}\u001b[39;00m\u001b[38;5;124m\"\u001b[39m)\n",
      "\u001b[0;31mTypeError\u001b[0m: 'numpy.float64' object is not iterable"
     ]
    },
    {
     "name": "stdout",
     "output_type": "stream",
     "text": [
      "ERROR! Session/line number was not unique in database. History logging moved to new session 139\n"
     ]
    }
   ],
   "source": [
    "print(f\"Difference max x and y: x = {abs(max(x) - max(y))} \\\n",
    "        \\nDifference min x and y: x = {abs(min(x) - min(y))}\")\n",
    "print(f\"System phases are {res.x[0] / np.pi * 180}° and {res.x[1] / np.pi * 180}°\")\n",
    "print(f\"Difference max x and y: x = {abs(max(x_c) - max(y_c))} \\\n",
    "        \\nDifference min x and y: x = {abs(min(x_c) - min(y_c))}\")\n",
    "print(f\"System phases are {1.3752388782 / np.pi * 180}° and {2.7990878396 / np.pi * 180}°\")\n",
    "print(f\"Difference max x and y: x = {abs(max(x_fast) - max(y_fast))} \\\n",
    "        \\nDifference min x and y: x = {abs(min(x_fast) - min(y_fast))}\")\n",
    "print(f\"System phases are {1.3752388781 / np.pi * 180}° and {2.7990878396 / np.pi * 180}°\")\n",
    "plt.plot(x, y, label=\"Solution from Python (400 ms calculation)\")\n",
    "plt.plot(x_c, y_c, label=\"Solution from C release mode (330 µs calculation)\")\n",
    "plt.plot(x_fast, y_fast, label=\"Solution from C release mode and Ofast (270 µs calculation)\")\n",
    "plt.grid(True)\n",
    "plt.xlabel(\"$x$\", fontsize=12)\n",
    "plt.ylabel(\"$y$\", fontsize=12)\n",
    "plt.legend(fontsize=12, bbox_to_anchor=(1,1))\n",
    "plt.axis(\"equal\")\n",
    "plt.show()"
   ]
  },
  {
   "cell_type": "code",
   "execution_count": null,
   "id": "9ff749fc",
   "metadata": {},
   "outputs": [],
   "source": [
    "phi = []\n",
    "system_phase = [0,0,0]#[0.8528266240831681, 0.7851372361732705, -0.5995082953564115]\n",
    "phases = []\n",
    "scaled_signals = [data[\"Norm DC1 (V)\"], data[\"Norm DC2 (V)\"], data[\"Norm DC3 (V)\"]]\n",
    "for i in range(len(dc_scaled[0])):\n",
    "    delta_phi = []\n",
    "    weight = []\n",
    "    x = scaled_signals[0][i] + scaled_signals[1][i] * np.cos(phi_d[1]) + scaled_signals[2][i] * np.cos(phi_d[2])\n",
    "    y = scaled_signals[1][i] * np.sin(phi_d[1]) + scaled_signals[2][i] * np.sin(phi_d[2])\n",
    "    signal_phase = np.pi / 2 + np.arctan2(y, x)\n",
    "    for j in range(1, 4):\n",
    "        X = data[f\"Norm D{j}X\"][i]\n",
    "        Y = data[f\"Norm D{j}Y\"][i]\n",
    "        R = np.sqrt(X ** 2 + Y ** 2)\n",
    "        theta = np.arctan2(Y, X)\n",
    "        dms = R * np.cos(theta - system_phase[j - 1])\n",
    "        phases.append(theta)\n",
    "        delta_phi.append(dms / np.cos(signal_phase - phi_d[j - 1]))\n",
    "        weight.append(np.abs(np.cos(signal_phase - phi_d[j - 1])))\n",
    "    delta_phi = np.array(delta_phi)\n",
    "    weight = np.array(weight)\n",
    "    phi.append(np.sum(delta_phi * weight) / np.sum(weight))\n"
   ]
  },
  {
   "cell_type": "code",
   "execution_count": null,
   "id": "c63f3ebf",
   "metadata": {},
   "outputs": [
    {
     "data": {
      "image/png": "[encoded data removed]",
      "text/plain": [
       "<Figure size 1224x288 with 1 Axes>"
      ]
     },
     "metadata": {
      "needs_background": "light"
     },
     "output_type": "display_data"
    }
   ],
   "source": [
    "figure = plt.figure()\n",
    "figure.set_figwidth(17)\n",
    "plt.plot(range(len(phi)), phi)\n",
    "plt.grid(True)\n",
    "plt.xlabel(\"Iteration\", fontsize=12)\n",
    "plt.ylabel(\"Phase in rad\", fontsize=12)\n",
    "plt.show()"
   ]
  },
  {
   "cell_type": "code",
   "execution_count": null,
   "id": "13d2f3fc",
   "metadata": {},
   "outputs": [],
   "source": [
    "with open(\"phases.csv\", \"w\") as f:\n",
    "  f.write(\"Phase in rad\\n\")\n",
    "  for phase in phi:\n",
    "    f.write(f\"{phase}\\n\")"
   ]
  }
 ],
 "metadata": {
  "kernelspec": {
   "display_name": "Python 3 (ipykernel)",
   "language": "python",
   "name": "python3"
  },
  "language_info": {
   "codemirror_mode": {
    "name": "ipython",
    "version": 3
   },
   "file_extension": ".py",
   "mimetype": "text/x-python",
   "name": "python",
   "nbconvert_exporter": "python",
   "pygments_lexer": "ipython3",
   "version": "3.10.2"
  }
 },
 "nbformat": 4,
 "nbformat_minor": 5
}
