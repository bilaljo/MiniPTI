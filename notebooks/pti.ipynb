{
 "cells": [
  {
   "cell_type": "code",
   "execution_count": 35,
   "id": "fe3a854a",
   "metadata": {
    "pycharm": {
     "name": "#%%\n"
    },
    "slideshow": {
     "slide_type": "subslide"
    },
    "tags": []
   },
   "outputs": [],
   "source": [
    "import pandas as pd\n",
    "import numpy as np\n",
    "from matplotlib import pyplot as plt\n",
    "from scipy.optimize import minimize\n",
    "from scipy import optimize"
   ]
  },
  {
   "cell_type": "code",
   "execution_count": null,
   "outputs": [],
   "source": [
    "decimation_data_comercial = pd.read_csv(\"Decimation_Comercial.csv\")\n",
    "#decimation_data_mmi = pd.read_csv(\"Decimation_mmi.csv\")\n",
    "\n",
    "pti_inversion_comercial = pd.read_csv(\"PTI_Inversion_Comercial.csv\")\n",
    "#pti_inversion_comercial = pd.read_csv(\"PTI_Inversion_MMI.csv\")"
   ],
   "metadata": {
    "collapsed": false,
    "pycharm": {
     "name": "#%%\n"
    }
   }
  },
  {
   "cell_type": "markdown",
   "source": [
    "# DC Values"
   ],
   "metadata": {
    "collapsed": false,
    "pycharm": {
     "name": "#%% md\n"
    }
   }
  },
  {
   "cell_type": "markdown",
   "source": [
    "## Comercial Coupler"
   ],
   "metadata": {
    "collapsed": false,
    "pycharm": {
     "name": "#%% md\n"
    }
   }
  },
  {
   "cell_type": "code",
   "execution_count": null,
   "outputs": [],
   "source": [
    "time = np.arange(len(decimation_data_comercial[\"DC CH1\"]))\n",
    "for channel in range(1, 4):\n",
    "    plt.plot(time, decimation_data_comercial[f\"DC CH{channel}\"], label=f\"Detector {channel}\")\n",
    "plt.xlabel(\"Time [h]\", fontsize=12)\n",
    "plt.ylabel(\"Photo Detector Voltage [V]\", fontsize=12)\n",
    "plt.grid()\n",
    "plt.legend(fontsize=12)\n",
    "plt.show()"
   ],
   "metadata": {
    "collapsed": false,
    "pycharm": {
     "name": "#%%\n"
    }
   }
  },
  {
   "cell_type": "markdown",
   "source": [
    "## MMI Coupler"
   ],
   "metadata": {
    "collapsed": false,
    "pycharm": {
     "name": "#%% md\n"
    }
   }
  },
  {
   "cell_type": "code",
   "execution_count": null,
   "outputs": [],
   "source": [
    "time = np.arange(len(decimation_data_mmi[\"DC CH1\"]))\n",
    "for channel in range(1, 4):\n",
    "    plt.plot(time, decimation_data_mmi[f\"DC CH{channel}\"], label=f\"Detector {channel}\")\n",
    "plt.xlabel(\"Time [h]\", fontsize=12)\n",
    "plt.ylabel(\"Photo Detector Voltage [V]\", fontsize=12)\n",
    "plt.grid()\n",
    "plt.legend(fontsize=12)\n",
    "plt.show()"
   ],
   "metadata": {
    "collapsed": false,
    "pycharm": {
     "name": "#%%\n"
    }
   }
  },
  {
   "cell_type": "markdown",
   "source": [
    "# RMS Values"
   ],
   "metadata": {
    "collapsed": false,
    "pycharm": {
     "name": "#%% md\n"
    }
   }
  },
  {
   "cell_type": "markdown",
   "source": [
    "## Comercial Coupler"
   ],
   "metadata": {
    "collapsed": false,
    "pycharm": {
     "name": "#%% md\n"
    }
   }
  },
  {
   "cell_type": "code",
   "execution_count": null,
   "outputs": [],
   "source": [
    "time = np.arange(len(decimation_data_comercial[\"AC CH1\"]))\n",
    "for channel in range(1, 4):\n",
    "    plt.plot(time, decimation_data_comercial[f\"AC CH{channel}\"], label=f\"Detector {channel}\")\n",
    "plt.xlabel(\"Time [s]\", fontsize=12)\n",
    "plt.ylabel(\"RMS [V]\", fontsize=12)\n",
    "plt.grid()\n",
    "plt.legend(fontsize=12)\n",
    "plt.show()"
   ],
   "metadata": {
    "collapsed": false,
    "pycharm": {
     "name": "#%%\n"
    }
   }
  },
  {
   "cell_type": "markdown",
   "source": [
    "## MMI Coupler"
   ],
   "metadata": {
    "collapsed": false,
    "pycharm": {
     "name": "#%% md\n"
    }
   }
  },
  {
   "cell_type": "code",
   "execution_count": null,
   "outputs": [],
   "source": [
    "time = np.arange(len(decimation_data_mmi[\"RMS CH1\"]))\n",
    "for channel in range(1, 4):\n",
    "    plt.plot(time, decimation_data_mmi[f\"RMS CH{channel}\"] * 10, label=f\"Detector {channel}\")\n",
    "plt.xlabel(\"Time [s]\", fontsize=12)\n",
    "plt.ylabel(\"RMS [V]\", fontsize=12)\n",
    "plt.grid()\n",
    "plt.legend(fontsize=12)\n",
    "plt.show()"
   ],
   "metadata": {
    "collapsed": false,
    "pycharm": {
     "name": "#%%\n"
    }
   }
  },
  {
   "cell_type": "markdown",
   "source": [
    "# Response Phases"
   ],
   "metadata": {
    "collapsed": false,
    "pycharm": {
     "name": "#%% md\n"
    }
   }
  },
  {
   "cell_type": "markdown",
   "source": [
    "## Comercial Coupler"
   ],
   "metadata": {
    "collapsed": false,
    "pycharm": {
     "name": "#%% md\n"
    }
   }
  },
  {
   "cell_type": "code",
   "execution_count": null,
   "outputs": [],
   "source": [
    "time = np.arange(len(decimation_data_comercial[\"Response Phase CH1\"]))\n",
    "for channel in range(1, 4):\n",
    "    data = decimation_data_comercial[f\"Response Phase CH{channel}\"].to_numpy()\n",
    "    data[decimation_data_comercial[f\"Response Phase CH{channel}\"] < 0] += 2 * np.pi\n",
    "    plt.scatter(time, data, label=f\"Detector {channel}\", s=2)\n",
    "plt.xlabel(\"Time [s]\", fontsize=12)\n",
    "plt.ylabel(\"RMS [V]\", fontsize=12)\n",
    "plt.grid()\n",
    "plt.legend(fontsize=12)\n",
    "plt.show()"
   ],
   "metadata": {
    "collapsed": false,
    "pycharm": {
     "name": "#%%\n"
    }
   }
  },
  {
   "cell_type": "code",
   "execution_count": null,
   "outputs": [],
   "source": [
    "response_phase_comercial = []\n",
    "for channel in range(1, 4):\n",
    "    data = decimation_data_comercial[f\"Response Phase CH{channel}\"].to_numpy()\n",
    "    data[decimation_data_comercial[f\"Response Phase CH{channel}\"] < 0] += 2 * np.pi\n",
    "    response_phase_comercial.append(np.mean(data[750:1000]))\n",
    "response_phase_comercial = np.array(response_phase_comercial)\n",
    "response_phase_comercial"
   ],
   "metadata": {
    "collapsed": false,
    "pycharm": {
     "name": "#%%\n"
    }
   }
  },
  {
   "cell_type": "code",
   "execution_count": null,
   "outputs": [],
   "source": [
    "response_phase_comercial[1] += np.pi\n",
    "response_phase_comercial"
   ],
   "metadata": {
    "collapsed": false,
    "pycharm": {
     "name": "#%%\n"
    }
   }
  },
  {
   "cell_type": "markdown",
   "source": [
    "## MMI Coupler"
   ],
   "metadata": {
    "collapsed": false,
    "pycharm": {
     "name": "#%% md\n"
    }
   }
  },
  {
   "cell_type": "code",
   "execution_count": null,
   "outputs": [],
   "source": [
    "time = np.arange(len(decimation_data_mmi[\"Response Phase CH1\"]))\n",
    "for channel in range(1, 4):\n",
    "    data = decimation_data_mmi[f\"Response Phase CH{channel}\"].to_numpy()\n",
    "    data[decimation_data_mmi[f\"Response Phase CH{channel}\"] < 0] += 2 * np.pi\n",
    "    plt.scatter(time, data, label=f\"Detector {channel}\", s=2)\n",
    "plt.xlabel(\"Time [s]\", fontsize=12)\n",
    "plt.ylabel(\"RMS [V]\", fontsize=12)\n",
    "plt.grid()\n",
    "plt.legend(fontsize=12)\n",
    "plt.show()"
   ],
   "metadata": {
    "collapsed": false,
    "pycharm": {
     "name": "#%%\n"
    }
   }
  },
  {
   "cell_type": "code",
   "execution_count": null,
   "outputs": [],
   "source": [
    "response_phase_mmi = []\n",
    "for channel in range(1, 4):\n",
    "    data = decimation_data_mmi[f\"Response Phase CH{channel}\"].to_numpy()\n",
    "    data[decimation_data_mmi[f\"Response Phase CH{channel}\"] < 0] += 2 * np.pi\n",
    "    response_phase_mmi.append(np.mean(data[1500:1700]))\n",
    "response_phase_mmi = np.array(response_phase_mmi)\n",
    "response_phase_mmi"
   ],
   "metadata": {
    "collapsed": false,
    "pycharm": {
     "name": "#%%\n"
    }
   }
  },
  {
   "cell_type": "code",
   "execution_count": null,
   "outputs": [],
   "source": [
    "response_phase_mmi = np.array(response_phase_mmi)\n",
    "response_phase_mmi[2] += np.pi\n",
    "response_phase_mmi"
   ],
   "metadata": {
    "collapsed": false,
    "pycharm": {
     "name": "#%%\n"
    }
   }
  },
  {
   "cell_type": "markdown",
   "source": [
    "# Interferometric Phase"
   ],
   "metadata": {
    "collapsed": false,
    "pycharm": {
     "name": "#%% md\n"
    }
   }
  },
  {
   "cell_type": "markdown",
   "source": [
    "## Comercial Coupler"
   ],
   "metadata": {
    "collapsed": false,
    "pycharm": {
     "name": "#%% md\n"
    }
   }
  },
  {
   "cell_type": "code",
   "execution_count": null,
   "outputs": [],
   "source": [
    "phases_comercial = pti_inversion_comercial[\"Interferometric Phase\"]\n",
    "plt.scatter(range(len(phases_comercial)), phases_comercial, label=\"Interferometrio Phase\", s=2)\n",
    "plt.xlabel(\"Time [h]\", fontsize=12)\n",
    "plt.ylabel(r\"$\\varphi$ [rad]\", fontsize=12)\n",
    "plt.grid()\n",
    "plt.show()"
   ],
   "metadata": {
    "collapsed": false,
    "pycharm": {
     "name": "#%%\n"
    }
   }
  },
  {
   "cell_type": "markdown",
   "source": [
    "## MMI Coupler"
   ],
   "metadata": {
    "collapsed": false,
    "pycharm": {
     "name": "#%% md\n"
    }
   }
  },
  {
   "cell_type": "code",
   "execution_count": null,
   "outputs": [],
   "source": [
    "phases_mmi = pti_inversion_mmi[\"Interferometric Phase\"]\n",
    "plt.scatter(range(len(phases_mmi)), phases_mmi, label=\"Interferometrio Phase\", s=2)\n",
    "plt.xlabel(\"Time [h]\", fontsize=12)\n",
    "plt.ylabel(r\"$\\varphi$ [rad]\", fontsize=12)\n",
    "plt.grid()\n",
    "plt.show()"
   ],
   "metadata": {
    "collapsed": false,
    "pycharm": {
     "name": "#%%\n"
    }
   }
  },
  {
   "cell_type": "markdown",
   "source": [
    "# PTI"
   ],
   "metadata": {
    "collapsed": false,
    "pycharm": {
     "name": "#%% md\n"
    }
   }
  },
  {
   "cell_type": "markdown",
   "source": [
    "## Comercial Coupler"
   ],
   "metadata": {
    "collapsed": false,
    "pycharm": {
     "name": "#%% md\n"
    }
   }
  },
  {
   "cell_type": "code",
   "execution_count": null,
   "outputs": [],
   "source": [
    "pti_comercial = pti_inversion_comercial[\"PTI Signal\"]\n",
    "pti_mean_comercial = np.mean(np.array(pti_comercial).reshape(-1, 8), axis=1)\n",
    "time_mean_comercial = np.arange(pti_mean_comercial.size)\n",
    "time_mean_comercial *= 8"
   ],
   "metadata": {
    "collapsed": false,
    "pycharm": {
     "name": "#%%\n"
    }
   }
  },
  {
   "cell_type": "code",
   "execution_count": null,
   "outputs": [],
   "source": [
    "plt.plot(time_mean_comercial, -pti_mean_comercial, label=\"Low Pass Filtered (13 s Mean)\")\n",
    "plt.scatter(range(len(pti_comercial)), -pti_comercial, color=\"orange\", s=2, label=\"1 s Data\")\n",
    "plt.grid()\n",
    "plt.xlabel(\"time [s]\", fontsize=12)\n",
    "plt.ylabel(r\"$\\Delta\\varphi$ [$10^{-6}$ rad]\", fontsize=12)\n",
    "plt.legend(fontsize=11)\n",
    "plt.show()"
   ],
   "metadata": {
    "collapsed": false,
    "pycharm": {
     "name": "#%%\n"
    }
   }
  },
  {
   "cell_type": "code",
   "execution_count": null,
   "outputs": [],
   "source": [
    "plt.plot(time_mean, -10 * pti_mean_mmi, label=\"Low Pass Filtered (13 s Mean)\")\n",
    "plt.scatter(range(len(pti_mmi)), -10 * pti_mmi, color=\"orange\", s=2, label=\"1 s Data\")\n",
    "plt.grid()\n",
    "#plt.axis([0, len(pti_mmi), -50, 50])\n",
    "plt.xlabel(\"time [s]\", fontsize=12)\n",
    "plt.ylabel(r\"$\\Delta\\varphi$ [$10^{-6}$ rad]\", fontsize=12)\n",
    "plt.legend(fontsize=11)\n",
    "plt.show()"
   ],
   "metadata": {
    "collapsed": false,
    "pycharm": {
     "name": "#%%\n"
    }
   }
  },
  {
   "cell_type": "code",
   "execution_count": null,
   "outputs": [],
   "source": [
    "%matplotlib inline\n",
    "plt.rcParams['text.usetex'] = True\n",
    "plt.rcParams['font.size'] = 18\n",
    "from matplotlib.offsetbox import AnchoredText\n",
    "\n",
    "t = range(len(pti_comercial))\n",
    "\n",
    "fig=plt.figure(figsize=(7, 10), dpi=100)\n",
    "ax1 = plt.subplot(311)\n",
    "ax2 = plt.subplot(312)\n",
    "ax4 = plt.subplot(313)\n",
    "\n",
    "\n",
    "ax1.plot(t, decimation_data_comercial[\"DC CH1\"], label=\"CH1\")\n",
    "ax1.plot(t, decimation_data_comercial[\"DC CH2\"], label= \"CH2\")\n",
    "ax1.plot(t, decimation_data_comercial[\"DC CH3\"], label=\"CH3\")\n",
    "\n",
    "ax2.scatter(t, phases_comercial, s=2)\n",
    "\n",
    "\n",
    "ax4.scatter(t, -pti_comercial * 1e6, s=2, label=\"1 s Data\")\n",
    "ax4.plot(time_mean_comercial, -pti_mean_comercial * 1e6, \"orange\", label=\"13 s Mean\")\n",
    "\n",
    "at1 = AnchoredText(\"(a) DC Values\", prop=dict(size=11), frameon=True, loc='upper left')\n",
    "at2 = AnchoredText(\"(b) Interferometric Phase\", prop=dict(size=11), frameon=True, loc='upper left')\n",
    "at4 = AnchoredText(\"(c) PTI Signal\", prop=dict(size=11), frameon=True, loc='upper left')\n",
    "\n",
    "at1.patch.set(alpha=0.7)\n",
    "at1.patch.set_boxstyle('round, pad=0, rounding_size=0.2')\n",
    "at2.patch.set(alpha=0.7)\n",
    "at2.patch.set_boxstyle('round, pad=0, rounding_size=0.2')\n",
    "at4.patch.set(alpha=0.7)\n",
    "at4.patch.set_boxstyle('round, pad=0, rounding_size=0.2')\n",
    "\n",
    "ax1.get_shared_x_axes().join(ax1, ax2, ax4)\n",
    "ax1.set_xticklabels([])\n",
    "ax1.grid()\n",
    "ax1.set_ylabel(r\"$I_k$ [V]\")\n",
    "ax1.legend(loc=\"upper right\")\n",
    "ax1.add_artist(at1)\n",
    "\n",
    "ax2.set_xticklabels([])\n",
    "ax2.grid()\n",
    "ax2.set_ylabel(r\"$\\varphi$ [rad]\")\n",
    "ax2.add_artist(at2)\n",
    "\n",
    "ax4.grid()\n",
    "ax4.set_xlabel(\"time [s]\")\n",
    "ax4.set_ylabel(r\"$\\Delta \\varphi$ [$10^{-6}$ rad]\")\n",
    "ax4.legend(loc=\"upper right\")\n",
    "ax4.add_artist(at4)\n",
    "\n",
    "plt.subplots_adjust(hspace=.0)\n",
    "\n",
    "ax2.autoscale()\n",
    "ax4.autoscale()\n",
    "plt.savefig(fname=\"comercial.pdf\", dpi=400, bbox_inches='tight')"
   ],
   "metadata": {
    "collapsed": false,
    "pycharm": {
     "name": "#%%\n"
    }
   }
  },
  {
   "cell_type": "code",
   "execution_count": null,
   "outputs": [],
   "source": [
    "%matplotlib tk\n",
    "import numpy as np\n",
    "import matplotlib.pyplot as plt\n",
    "from matplotlib.offsetbox import AnchoredText\n",
    "\n",
    "t = np.arange(len(pti_mmi))\n",
    "\n",
    "fig=plt.figure(figsize=(7, 10), dpi=100)\n",
    "ax1 = plt.subplot(411)\n",
    "ax2 = plt.subplot(412)\n",
    "ax3 = plt.subplot(413)\n",
    "ax4 = plt.subplot(414)\n",
    "\n",
    "\n",
    "ax1.plot(t, decimation_data_mmi[\"DC CH1\"], label=\"CH1\")\n",
    "ax1.plot(t, decimation_data_mmi[\"DC CH2\"], label= \"CH2\")\n",
    "ax1.plot(t, decimation_data_mmi[\"DC CH3\"], label=\"CH3\")\n",
    "\n",
    "ax2.scatter(t, phases_mmi_coupler, s=2)\n",
    "\n",
    "ax3.scatter(t, decimation_data_mmi[f\"Response Phase CH1\"], label=\"CH1\", s=2)\n",
    "ax3.scatter(t, decimation_data_mmi[f\"Response Phase CH2\"], label=\"CH2\", s=2)\n",
    "ax3.scatter(t, decimation_data_mmi[f\"Response Phase CH3\"], label=\"CH3\", s=2)\n",
    "\n",
    "ax4.scatter(t, -10 * pti_mmi, s=2, label=\"1 s Data\")\n",
    "ax4.plot(time_mean, -10 * pti_mean_mmi, \"orange\", label=\"13 s Mean\")\n",
    "\n",
    "at1 = AnchoredText(\"(a) DC Values\", prop=dict(size=11), frameon=True, loc='upper left')\n",
    "at2 = AnchoredText(\"(b) Interferometric Phase\", prop=dict(size=11), frameon=True, loc='upper left')\n",
    "at4 = AnchoredText(\"(c) PTI Signal\", prop=dict(size=11), frameon=True, loc='upper left')\n",
    "\n",
    "at1.patch.set(alpha=0.7)\n",
    "at1.patch.set_boxstyle('round, pad=0, rounding_size=0.2')\n",
    "at2.patch.set(alpha=0.7)\n",
    "at2.patch.set_boxstyle('round, pad=0, rounding_size=0.2')\n",
    "\n",
    "at4.patch.set(alpha=0.7)\n",
    "at4.patch.set_boxstyle('round, pad=0, rounding_size=0.2')\n",
    "\n",
    "ax1.get_shared_x_axes().join(ax1, ax2, ax3, ax4)\n",
    "ax1.set_xticklabels([])\n",
    "ax1.grid()\n",
    "ax1.set_ylabel(r\"$I_k$ [V]\")\n",
    "ax1.legend(loc=\"upper right\")\n",
    "ax1.add_artist(at1)\n",
    "\n",
    "ax2.set_xticklabels([])\n",
    "ax2.grid()\n",
    "ax2.set_ylabel(r\"$\\varphi$ [rad]\")\n",
    "ax2.add_artist(at2)\n",
    "\n",
    "ax4.grid()\n",
    "ax4.set_xlabel(\"time [s]\")\n",
    "ax4.set_ylabel(r\"$\\Delta \\varphi$ [$10^{-6}$ rad]\")\n",
    "ax4.legend(loc=\"upper right\")\n",
    "ax4.add_artist(at4)\n",
    "ax4.set_ylim(0, 1)\n",
    "\n",
    "plt.subplots_adjust(hspace=.0)\n",
    "\n",
    "ax2.autoscale()\n",
    "ax4.autoscale()\n",
    "plt.savefig(fname=\"mmi.pdf\", dpi=400, bbox_inches='tight')"
   ],
   "metadata": {
    "collapsed": false,
    "pycharm": {
     "name": "#%%\n"
    }
   }
  },
  {
   "cell_type": "markdown",
   "source": [
    " # Output Phases"
   ],
   "metadata": {
    "collapsed": false,
    "pycharm": {
     "name": "#%% md\n"
    }
   }
  },
  {
   "cell_type": "markdown",
   "source": [
    "## Comercial Coupler"
   ],
   "metadata": {
    "collapsed": false,
    "pycharm": {
     "name": "#%% md\n"
    }
   }
  },
  {
   "cell_type": "markdown",
   "source": [
    "## MMI Coupler"
   ],
   "metadata": {
    "collapsed": false,
    "pycharm": {
     "name": "#%% md\n"
    }
   }
  },
  {
   "cell_type": "code",
   "execution_count": 2,
   "outputs": [],
   "source": [
    "output_phases = pd.read_csv(\"Output_Phases.csv\")"
   ],
   "metadata": {
    "collapsed": false,
    "pycharm": {
     "name": "#%%\n"
    }
   }
  },
  {
   "cell_type": "code",
   "execution_count": 3,
   "outputs": [
    {
     "data": {
      "text/plain": "Unnamed: 0    0.000000\nDetector 2    1.842202\nDetector 3    2.157779\ndtype: float64"
     },
     "execution_count": 3,
     "metadata": {},
     "output_type": "execute_result"
    }
   ],
   "source": [
    "output_phases.mean()"
   ],
   "metadata": {
    "collapsed": false,
    "pycharm": {
     "name": "#%%\n"
    }
   }
  },
  {
   "cell_type": "code",
   "execution_count": 4,
   "outputs": [
    {
     "data": {
      "text/plain": "Unnamed: 0    0.000000\nDetector 2    0.003944\nDetector 3    0.245898\ndtype: float64"
     },
     "execution_count": 4,
     "metadata": {},
     "output_type": "execute_result"
    }
   ],
   "source": [
    "output_phases.std()"
   ],
   "metadata": {
    "collapsed": false,
    "pycharm": {
     "name": "#%%\n"
    }
   }
  },
  {
   "cell_type": "code",
   "execution_count": null,
   "outputs": [],
   "source": [],
   "metadata": {
    "collapsed": false,
    "pycharm": {
     "name": "#%%\n"
    }
   }
  }
 ],
 "metadata": {
  "kernelspec": {
   "display_name": "Python 3 (ipykernel)",
   "language": "python",
   "name": "python3"
  },
  "language_info": {
   "codemirror_mode": {
    "name": "ipython",
    "version": 3
   },
   "file_extension": ".py",
   "mimetype": "text/x-python",
   "name": "python",
   "nbconvert_exporter": "python",
   "pygments_lexer": "ipython3",
   "version": "3.10.5"
  },
  "toc-autonumbering": false,
  "toc-showmarkdowntxt": false,
  "toc-showtags": false
 },
 "nbformat": 4,
 "nbformat_minor": 5
}