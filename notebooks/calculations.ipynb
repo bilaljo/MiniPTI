{
 "cells": [
  {
   "cell_type": "code",
   "execution_count": 1,
   "id": "035c991b-707a-400c-addc-79dbe7bc26b9",
   "metadata": {
    "pycharm": {
     "name": "#%%\n"
    }
   },
   "outputs": [],
   "source": [
    "from sympy import *"
   ]
  },
  {
   "cell_type": "code",
   "execution_count": 40,
   "outputs": [],
   "source": [
    "I_1, I_2, I_3, rho_1, rho_2 = symbols(r\"I_1, I_2, I_3, \\rho_1, \\rho_2\")"
   ],
   "metadata": {
    "collapsed": false,
    "pycharm": {
     "name": "#%%\n"
    }
   }
  },
  {
   "cell_type": "code",
   "execution_count": 41,
   "outputs": [],
   "source": [
    "def error(x):\n",
    "    return (cos(x) - I_1) ** 2 + (cos(x - rho_1) - I_2) ** 2 + (cos(x - rho_2) - I_3) ** 2"
   ],
   "metadata": {
    "collapsed": false,
    "pycharm": {
     "name": "#%%\n"
    }
   }
  },
  {
   "cell_type": "code",
   "execution_count": 42,
   "outputs": [
    {
     "data": {
      "text/plain": "(-I_1 + cos(x))**2 + (-I_2 + cos(\\rho_1 - x))**2 + (-I_3 + cos(\\rho_2 - x))**2",
      "text/latex": "$\\displaystyle \\left(- I_{1} + \\cos{\\left(x \\right)}\\right)^{2} + \\left(- I_{2} + \\cos{\\left(\\rho_{1} - x \\right)}\\right)^{2} + \\left(- I_{3} + \\cos{\\left(\\rho_{2} - x \\right)}\\right)^{2}$"
     },
     "execution_count": 42,
     "metadata": {},
     "output_type": "execute_result"
    }
   ],
   "source": [
    "x = symbols(\"x\")\n",
    "error = error(x)\n",
    "error"
   ],
   "metadata": {
    "collapsed": false,
    "pycharm": {
     "name": "#%%\n"
    }
   }
  },
  {
   "cell_type": "code",
   "execution_count": 43,
   "id": "4ab24e63-1af4-45f8-b8d1-f8cc664adf4c",
   "metadata": {
    "pycharm": {
     "name": "#%%\n"
    }
   },
   "outputs": [
    {
     "data": {
      "text/plain": "-2*(-I_1 + cos(x))*sin(x) + 2*(-I_2 + cos(\\rho_1 - x))*sin(\\rho_1 - x) + 2*(-I_3 + cos(\\rho_2 - x))*sin(\\rho_2 - x)",
      "text/latex": "$\\displaystyle - 2 \\left(- I_{1} + \\cos{\\left(x \\right)}\\right) \\sin{\\left(x \\right)} + 2 \\left(- I_{2} + \\cos{\\left(\\rho_{1} - x \\right)}\\right) \\sin{\\left(\\rho_{1} - x \\right)} + 2 \\left(- I_{3} + \\cos{\\left(\\rho_{2} - x \\right)}\\right) \\sin{\\left(\\rho_{2} - x \\right)}$"
     },
     "execution_count": 43,
     "metadata": {},
     "output_type": "execute_result"
    }
   ],
   "source": [
    "error_df = error.diff(x)\n",
    "error_df"
   ]
  },
  {
   "cell_type": "code",
   "execution_count": 44,
   "outputs": [
    {
     "data": {
      "text/plain": "\"I_1 = Symbol('I_1')\\nx = Symbol('x')\\nI_2 = Symbol('I_2')\\n\\\\rho_1 = Symbol('\\\\rho_1')\\nI_3 = Symbol('I_3')\\n\\\\rho_2 = Symbol('\\\\rho_2')\\ne = -2*(-I_1 + cos(x))*sin(x) + 2*(-I_2 + cos(\\\\rho_1 - x))*sin(\\\\rho_1 - x) + 2*(-I_3 + cos(\\\\rho_2 - x))*sin(\\\\rho_2 - x)\""
     },
     "execution_count": 44,
     "metadata": {},
     "output_type": "execute_result"
    }
   ],
   "source": [
    "python(error_df)"
   ],
   "metadata": {
    "collapsed": false,
    "pycharm": {
     "name": "#%%\n"
    }
   }
  },
  {
   "cell_type": "code",
   "execution_count": 33,
   "outputs": [
    {
     "data": {
      "text/plain": "-2*(-I_1 + cos(x))*sin(x) + 2*(-I_2 + cos(\\rho_1 - x))*sin(\\rho_1 - x) + 2*(-I_3 + cos(\\rho_2 - x))*sin(\\rho_2 - x)",
      "text/latex": "$\\displaystyle - 2 \\left(- I_{1} + \\cos{\\left(x \\right)}\\right) \\sin{\\left(x \\right)} + 2 \\left(- I_{2} + \\cos{\\left(\\rho_{1} - x \\right)}\\right) \\sin{\\left(\\rho_{1} - x \\right)} + 2 \\left(- I_{3} + \\cos{\\left(\\rho_{2} - x \\right)}\\right) \\sin{\\left(\\rho_{2} - x \\right)}$"
     },
     "execution_count": 33,
     "metadata": {},
     "output_type": "execute_result"
    }
   ],
   "source": [
    "error_ddf = error.diff(x)\n",
    "error_ddf"
   ],
   "metadata": {
    "collapsed": false,
    "pycharm": {
     "name": "#%%\n"
    }
   }
  },
  {
   "cell_type": "code",
   "execution_count": null,
   "outputs": [],
   "source": [],
   "metadata": {
    "collapsed": false,
    "pycharm": {
     "name": "#%%\n"
    }
   }
  }
 ],
 "metadata": {
  "kernelspec": {
   "display_name": "Python 3 (ipykernel)",
   "language": "python",
   "name": "python3"
  },
  "language_info": {
   "codemirror_mode": {
    "name": "ipython",
    "version": 3
   },
   "file_extension": ".py",
   "mimetype": "text/x-python",
   "name": "python",
   "nbconvert_exporter": "python",
   "pygments_lexer": "ipython3",
   "version": "3.10.4"
  }
 },
 "nbformat": 4,
 "nbformat_minor": 5
}