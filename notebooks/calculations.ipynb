{
 "cells": [
  {
   "cell_type": "code",
   "execution_count": 2,
   "id": "035c991b-707a-400c-addc-79dbe7bc26b9",
   "metadata": {
    "pycharm": {
     "name": "#%%\n"
    }
   },
   "outputs": [],
   "source": [
    "from sympy import *"
   ]
  },
  {
   "cell_type": "code",
   "execution_count": 3,
   "id": "4ab24e63-1af4-45f8-b8d1-f8cc664adf4c",
   "metadata": {
    "pycharm": {
     "name": "#%%\n"
    }
   },
   "outputs": [],
   "source": [
    "x, n = symbols(\"x, n\")\n",
    "I_k, phi_k = Indexed(\"I\", \"k\"), Indexed(r\"\\varphi\", \"k\")"
   ]
  },
  {
   "cell_type": "code",
   "execution_count": 4,
   "id": "f5a123f3",
   "metadata": {
    "collapsed": false,
    "jupyter": {
     "outputs_hidden": false
    },
    "pycharm": {
     "name": "#%%\n"
    }
   },
   "outputs": [
    {
     "data": {
      "text/plain": "Sum((cos(x - \\varphi[k]) - I[k])**2, (k, 1, n))",
      "text/latex": "$\\displaystyle \\sum_{k=1}^{n} \\left(\\cos{\\left(x - {\\varphi}_{k} \\right)} - {I}_{k}\\right)^{2}$"
     },
     "execution_count": 4,
     "metadata": {},
     "output_type": "execute_result"
    }
   ],
   "source": [
    "detector = Sum((cos(x - phi_k) - I_k) ** 2, (\"k\", 1, n) )\n",
    "detector"
   ]
  },
  {
   "cell_type": "code",
   "execution_count": 5,
   "id": "88fbb955",
   "metadata": {
    "collapsed": false,
    "jupyter": {
     "outputs_hidden": false
    },
    "pycharm": {
     "name": "#%%\n"
    }
   },
   "outputs": [
    {
     "data": {
      "text/plain": "Sum(-2*(cos(x - \\varphi[k]) - I[k])*sin(x - \\varphi[k]), (k, 1, n))",
      "text/latex": "$\\displaystyle \\sum_{k=1}^{n} - 2 \\left(\\cos{\\left(x - {\\varphi}_{k} \\right)} - {I}_{k}\\right) \\sin{\\left(x - {\\varphi}_{k} \\right)}$"
     },
     "execution_count": 5,
     "metadata": {},
     "output_type": "execute_result"
    }
   ],
   "source": [
    "detector.diff(x)"
   ]
  },
  {
   "cell_type": "code",
   "execution_count": 6,
   "outputs": [],
   "source": [
    "I, phi = symbols(r\"I, \\varphi\")"
   ],
   "metadata": {
    "collapsed": false,
    "pycharm": {
     "name": "#%%\n"
    }
   }
  },
  {
   "cell_type": "code",
   "execution_count": 7,
   "outputs": [
    {
     "data": {
      "text/plain": "(-I + cos(\\varphi - x))**2",
      "text/latex": "$\\displaystyle \\left(- I + \\cos{\\left(\\varphi - x \\right)}\\right)^{2}$"
     },
     "execution_count": 7,
     "metadata": {},
     "output_type": "execute_result"
    }
   ],
   "source": [
    "detector = (cos(phi - x) - I) ** 2\n",
    "detector"
   ],
   "metadata": {
    "collapsed": false,
    "pycharm": {
     "name": "#%%\n"
    }
   }
  },
  {
   "cell_type": "code",
   "execution_count": 8,
   "outputs": [
    {
     "data": {
      "text/plain": "2*(-I + cos(\\varphi - x))*sin(\\varphi - x)",
      "text/latex": "$\\displaystyle 2 \\left(- I + \\cos{\\left(\\varphi - x \\right)}\\right) \\sin{\\left(\\varphi - x \\right)}$"
     },
     "execution_count": 8,
     "metadata": {},
     "output_type": "execute_result"
    }
   ],
   "source": [
    "df = detector.diff(x)\n",
    "df"
   ],
   "metadata": {
    "collapsed": false,
    "pycharm": {
     "name": "#%%\n"
    }
   }
  },
  {
   "cell_type": "code",
   "execution_count": 9,
   "outputs": [
    {
     "data": {
      "text/plain": "[\\varphi, \\varphi - pi, \\varphi - acos(I), \\varphi + acos(I) - 2*pi]"
     },
     "execution_count": 9,
     "metadata": {},
     "output_type": "execute_result"
    }
   ],
   "source": [
    "solve(df, x)"
   ],
   "metadata": {
    "collapsed": false,
    "pycharm": {
     "name": "#%%\n"
    }
   }
  },
  {
   "cell_type": "code",
   "execution_count": 10,
   "outputs": [
    {
     "data": {
      "text/plain": "-(-2*I + 2*cos(\\varphi - x))*cos(\\varphi - x) + 2*sin(\\varphi - x)**2",
      "text/latex": "$\\displaystyle - \\left(- 2 I + 2 \\cos{\\left(\\varphi - x \\right)}\\right) \\cos{\\left(\\varphi - x \\right)} + 2 \\sin^{2}{\\left(\\varphi - x \\right)}$"
     },
     "execution_count": 10,
     "metadata": {},
     "output_type": "execute_result"
    }
   ],
   "source": [
    "dff = df.diff(x)\n",
    "dff"
   ],
   "metadata": {
    "collapsed": false,
    "pycharm": {
     "name": "#%%\n"
    }
   }
  },
  {
   "cell_type": "code",
   "execution_count": 11,
   "outputs": [
    {
     "data": {
      "text/plain": "2 - 2*I**2",
      "text/latex": "$\\displaystyle 2 - 2 I^{2}$"
     },
     "execution_count": 11,
     "metadata": {},
     "output_type": "execute_result"
    }
   ],
   "source": [
    "dff.subs(x, phi - acos(I))"
   ],
   "metadata": {
    "collapsed": false,
    "pycharm": {
     "name": "#%%\n"
    }
   }
  },
  {
   "cell_type": "code",
   "execution_count": 11,
   "outputs": [],
   "source": [],
   "metadata": {
    "collapsed": false,
    "pycharm": {
     "name": "#%%\n"
    }
   }
  }
 ],
 "metadata": {
  "kernelspec": {
   "display_name": "Python 3 (ipykernel)",
   "language": "python",
   "name": "python3"
  },
  "language_info": {
   "codemirror_mode": {
    "name": "ipython",
    "version": 3
   },
   "file_extension": ".py",
   "mimetype": "text/x-python",
   "name": "python",
   "nbconvert_exporter": "python",
   "pygments_lexer": "ipython3",
   "version": "3.10.4"
  }
 },
 "nbformat": 4,
 "nbformat_minor": 5
}