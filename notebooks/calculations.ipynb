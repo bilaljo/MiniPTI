{
 "cells": [
  {
   "cell_type": "code",
   "execution_count": 1,
   "id": "035c991b-707a-400c-addc-79dbe7bc26b9",
   "metadata": {
    "pycharm": {
     "name": "#%%\n"
    }
   },
   "outputs": [],
   "source": [
    "from sympy import *"
   ]
  },
  {
   "cell_type": "code",
   "execution_count": 2,
   "id": "4ab24e63-1af4-45f8-b8d1-f8cc664adf4c",
   "metadata": {
    "pycharm": {
     "name": "#%%\n"
    }
   },
   "outputs": [],
   "source": [
    "x, n = symbols(\"x, n\")\n",
    "I, phi = Indexed(\"I\", \"k\"), Indexed(r\"\\varphi\", \"k\")"
   ]
  },
  {
   "cell_type": "code",
   "execution_count": 3,
   "id": "f5a123f3",
   "metadata": {
    "collapsed": false,
    "jupyter": {
     "outputs_hidden": false
    },
    "pycharm": {
     "name": "#%%\n"
    }
   },
   "outputs": [
    {
     "data": {
      "text/latex": [
       "$\\displaystyle \\sum_{k=1}^{n} \\left(\\cos{\\left(x - {\\varphi}_{k} \\right)} - {I}_{k}\\right)^{2}$"
      ],
      "text/plain": [
       "Sum((cos(x - \\varphi[k]) - I[k])**2, (k, 1, n))"
      ]
     },
     "execution_count": 3,
     "metadata": {},
     "output_type": "execute_result"
    }
   ],
   "source": [
    "detector = Sum((cos(x - phi) - I) ** 2, (\"k\", 1, n) )\n",
    "detector"
   ]
  },
  {
   "cell_type": "code",
   "execution_count": 6,
   "id": "88fbb955",
   "metadata": {
    "collapsed": false,
    "jupyter": {
     "outputs_hidden": false
    },
    "pycharm": {
     "name": "#%%\n"
    }
   },
   "outputs": [
    {
     "data": {
      "text/plain": "Sum((-2*cos(x - \\varphi[k]) + 2*I[k])*cos(x - \\varphi[k]) + 2*sin(x - \\varphi[k])**2, (k, 1, n))",
      "text/latex": "$\\displaystyle \\sum_{k=1}^{n} \\left(\\left(- 2 \\cos{\\left(x - {\\varphi}_{k} \\right)} + 2 {I}_{k}\\right) \\cos{\\left(x - {\\varphi}_{k} \\right)} + 2 \\sin^{2}{\\left(x - {\\varphi}_{k} \\right)}\\right)$"
     },
     "execution_count": 6,
     "metadata": {},
     "output_type": "execute_result"
    }
   ],
   "source": [
    "detector.diff(x).diff(x)"
   ]
  },
  {
   "cell_type": "code",
   "execution_count": null,
   "outputs": [],
   "source": [],
   "metadata": {
    "collapsed": false,
    "pycharm": {
     "name": "#%%\n"
    }
   }
  },
  {
   "cell_type": "code",
   "execution_count": null,
   "id": "c1afcbc4-04a9-44d3-a2ce-c54edbfebbc1",
   "metadata": {
    "pycharm": {
     "name": "#%%\n"
    }
   },
   "outputs": [],
   "source": []
  }
 ],
 "metadata": {
  "kernelspec": {
   "display_name": "Python 3 (ipykernel)",
   "language": "python",
   "name": "python3"
  },
  "language_info": {
   "codemirror_mode": {
    "name": "ipython",
    "version": 3
   },
   "file_extension": ".py",
   "mimetype": "text/x-python",
   "name": "python",
   "nbconvert_exporter": "python",
   "pygments_lexer": "ipython3",
   "version": "3.10.4"
  }
 },
 "nbformat": 4,
 "nbformat_minor": 5
}