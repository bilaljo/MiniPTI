{
 "cells": [
  {
   "cell_type": "code",
   "execution_count": 4,
   "id": "035c991b-707a-400c-addc-79dbe7bc26b9",
   "metadata": {
    "pycharm": {
     "name": "#%%\n"
    }
   },
   "outputs": [],
   "source": [
    "from sympy import *"
   ]
  },
  {
   "cell_type": "code",
   "execution_count": 18,
   "id": "4ab24e63-1af4-45f8-b8d1-f8cc664adf4c",
   "metadata": {
    "pycharm": {
     "name": "#%%\n"
    }
   },
   "outputs": [],
   "source": [
    "x_1, x_2, phi = symbols(r\"x_1, x_2, \\varphi\")\n",
    "I_1, I_2, I_3 = Indexed(\"I_1\", \"k\"), Indexed(\"I_2\", \"k\"), Indexed(\"I_3\", \"k\")"
   ]
  },
  {
   "cell_type": "code",
   "execution_count": 23,
   "id": "f5a123f3",
   "metadata": {
    "collapsed": false,
    "jupyter": {
     "outputs_hidden": false
    },
    "pycharm": {
     "name": "#%%\n"
    }
   },
   "outputs": [
    {
     "data": {
      "text/plain": "cos(\\varphi) - I_1[k]",
      "text/latex": "$\\displaystyle \\cos{\\left(\\varphi \\right)} - {I_{1}}_{k}$"
     },
     "execution_count": 23,
     "metadata": {},
     "output_type": "execute_result"
    }
   ],
   "source": [
    "detector_1 = cos(phi) - I_1\n",
    "detector_1"
   ]
  },
  {
   "cell_type": "code",
   "execution_count": 24,
   "outputs": [
    {
     "data": {
      "text/plain": "cos(\\varphi - x_1) - I_2[k]",
      "text/latex": "$\\displaystyle \\cos{\\left(\\varphi - x_{1} \\right)} - {I_{2}}_{k}$"
     },
     "execution_count": 24,
     "metadata": {},
     "output_type": "execute_result"
    }
   ],
   "source": [
    "detector_2 = cos(phi - x_1) - I_2\n",
    "detector_2"
   ],
   "metadata": {
    "collapsed": false,
    "pycharm": {
     "name": "#%%\n"
    }
   }
  },
  {
   "cell_type": "code",
   "execution_count": 25,
   "outputs": [
    {
     "data": {
      "text/plain": "cos(\\varphi - x_2) - I_3[k]",
      "text/latex": "$\\displaystyle \\cos{\\left(\\varphi - x_{2} \\right)} - {I_{3}}_{k}$"
     },
     "execution_count": 25,
     "metadata": {},
     "output_type": "execute_result"
    }
   ],
   "source": [
    "detector_3 = cos(phi - x_2) - I_3\n",
    "detector_3"
   ],
   "metadata": {
    "collapsed": false,
    "pycharm": {
     "name": "#%%\n"
    }
   }
  },
  {
   "cell_type": "code",
   "execution_count": 26,
   "outputs": [
    {
     "data": {
      "text/plain": "[(-acos(I_1[k]) + 2*pi,\n  -acos(I_1[k]) + acos(I_2[k]),\n  -acos(I_1[k]) + acos(I_3[k])),\n (-acos(I_1[k]) + 2*pi,\n  -acos(I_1[k]) + acos(I_2[k]),\n  -acos(I_1[k]) - acos(I_3[k]) + 2*pi),\n (-acos(I_1[k]) + 2*pi,\n  -acos(I_1[k]) - acos(I_2[k]) + 2*pi,\n  -acos(I_1[k]) + acos(I_3[k])),\n (-acos(I_1[k]) + 2*pi,\n  -acos(I_1[k]) - acos(I_2[k]) + 2*pi,\n  -acos(I_1[k]) - acos(I_3[k]) + 2*pi),\n (acos(I_1[k]), acos(I_1[k]) + acos(I_2[k]), acos(I_1[k]) + acos(I_3[k])),\n (acos(I_1[k]),\n  acos(I_1[k]) + acos(I_2[k]),\n  acos(I_1[k]) - acos(I_3[k]) + 2*pi),\n (acos(I_1[k]),\n  acos(I_1[k]) - acos(I_2[k]) + 2*pi,\n  acos(I_1[k]) + acos(I_3[k])),\n (acos(I_1[k]),\n  acos(I_1[k]) - acos(I_2[k]) + 2*pi,\n  acos(I_1[k]) - acos(I_3[k]) + 2*pi)]"
     },
     "execution_count": 26,
     "metadata": {},
     "output_type": "execute_result"
    }
   ],
   "source": [
    "solve([detector_1, detector_2, detector_3], [phi, x_1, x_2])"
   ],
   "metadata": {
    "collapsed": false,
    "pycharm": {
     "name": "#%%\n"
    }
   }
  },
  {
   "cell_type": "code",
   "execution_count": null,
   "outputs": [],
   "source": [],
   "metadata": {
    "collapsed": false,
    "pycharm": {
     "name": "#%%\n"
    }
   }
  }
 ],
 "metadata": {
  "kernelspec": {
   "display_name": "Python 3 (ipykernel)",
   "language": "python",
   "name": "python3"
  },
  "language_info": {
   "codemirror_mode": {
    "name": "ipython",
    "version": 3
   },
   "file_extension": ".py",
   "mimetype": "text/x-python",
   "name": "python",
   "nbconvert_exporter": "python",
   "pygments_lexer": "ipython3",
   "version": "3.10.4"
  }
 },
 "nbformat": 4,
 "nbformat_minor": 5
}