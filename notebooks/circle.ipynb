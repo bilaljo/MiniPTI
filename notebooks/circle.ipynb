{
 "cells": [
  {
   "cell_type": "code",
   "execution_count": 2,
   "metadata": {},
   "outputs": [],
   "source": [
    "from sympy import *\n",
    "import sys\n",
    "sys.setrecursionlimit(1500000)\n",
    "init_printing()"
   ]
  },
  {
   "cell_type": "code",
   "execution_count": 3,
   "metadata": {},
   "outputs": [],
   "source": [
    "phi_1, phi_2, r, w, t, kappa_1, kappa_2 = symbols(\"phi_1 phi_2 r omega t kappa_1 kappa_2\")"
   ]
  },
  {
   "cell_type": "code",
   "execution_count": 4,
   "metadata": {},
   "outputs": [
    {
     "data": {
      "text/latex": [
       "$\\displaystyle \\left[\\begin{matrix}\\frac{\\sin{\\left(\\omega t + \\frac{\\pi}{6} \\right)}}{2} + \\cos{\\left(\\omega t \\right)} + \\frac{\\cos{\\left(\\omega t + \\frac{\\pi}{3} \\right)}}{2}\\\\\\frac{\\sqrt{3} \\sin{\\left(\\omega t + \\frac{\\pi}{6} \\right)}}{2} - \\frac{\\sqrt{3} \\cos{\\left(\\omega t + \\frac{\\pi}{3} \\right)}}{2}\\end{matrix}\\right]$"
      ],
      "text/plain": [
       "⎡   ⎛      π⎞                 ⎛      π⎞⎤\n",
       "⎢sin⎜ω⋅t + ─⎟              cos⎜ω⋅t + ─⎟⎥\n",
       "⎢   ⎝      6⎠                 ⎝      3⎠⎥\n",
       "⎢──────────── + cos(ω⋅t) + ────────────⎥\n",
       "⎢     2                         2      ⎥\n",
       "⎢                                      ⎥\n",
       "⎢        ⎛      π⎞         ⎛      π⎞   ⎥\n",
       "⎢  √3⋅sin⎜ω⋅t + ─⎟   √3⋅cos⎜ω⋅t + ─⎟   ⎥\n",
       "⎢        ⎝      6⎠         ⎝      3⎠   ⎥\n",
       "⎢  ─────────────── - ───────────────   ⎥\n",
       "⎣         2                 2          ⎦"
      ]
     },
     "execution_count": 4,
     "metadata": {},
     "output_type": "execute_result"
    }
   ],
   "source": [
    "r = Matrix([cos(w * t) + cos(2 * pi / 3) * cos(w * t - (2 * pi / 3)) + cos(4 * pi / 3) * cos(w * t - (4 * pi / 3)),\n",
    "            sin(2 * pi / 3) * cos(w * t - (2 * pi / 3)) + sin(4 * pi / 3) * cos(w * t - (4 * pi / 3))])\n",
    "r"
   ]
  },
  {
   "cell_type": "code",
   "execution_count": 5,
   "metadata": {},
   "outputs": [
    {
     "data": {
      "text/latex": [
       "$\\displaystyle \\left[\\begin{matrix}0.5 \\sin{\\left(\\omega t + \\frac{\\pi}{6} \\right)} + \\cos{\\left(\\omega t \\right)} + 0.5 \\cos{\\left(\\omega t + \\frac{\\pi}{3} \\right)}\\\\0.5 \\sqrt{3} \\sin{\\left(\\omega t + \\frac{\\pi}{6} \\right)} + 0.5 \\sqrt{3} \\cos{\\left(\\omega t + \\frac{\\pi}{3} \\right)}\\end{matrix}\\right]$"
      ],
      "text/plain": [
       "⎡       ⎛      π⎞                     ⎛      π⎞⎤\n",
       "⎢0.5⋅sin⎜ω⋅t + ─⎟ + cos(ω⋅t) + 0.5⋅cos⎜ω⋅t + ─⎟⎥\n",
       "⎢       ⎝      6⎠                     ⎝      3⎠⎥\n",
       "⎢                                              ⎥\n",
       "⎢            ⎛      π⎞             ⎛      π⎞   ⎥\n",
       "⎢  0.5⋅√3⋅sin⎜ω⋅t + ─⎟ + 0.5⋅√3⋅cos⎜ω⋅t + ─⎟   ⎥\n",
       "⎣            ⎝      6⎠             ⎝      3⎠   ⎦"
      ]
     },
     "execution_count": 5,
     "metadata": {},
     "output_type": "execute_result"
    }
   ],
   "source": [
    "r = Matrix([cos(w * t) -1 / 2 * cos(w * t - (2 * pi / 3)) + -1 / 2 * cos(w * t - (4 * pi / 3)),\n",
    "            -1 / 2 * sqrt(3) * cos(w * t - (2 * pi / 3))  -1 / 2 * sqrt(3) * cos(w * t - (4 * pi / 3))])\n",
    "r"
   ]
  },
  {
   "cell_type": "code",
   "execution_count": 6,
   "metadata": {},
   "outputs": [
    {
     "data": {
      "text/latex": [
       "$\\displaystyle \\left[\\begin{matrix}\\frac{3 \\cos{\\left(\\omega t \\right)}}{2}\\\\\\frac{3 \\sin{\\left(\\omega t \\right)}}{2}\\end{matrix}\\right]$"
      ],
      "text/plain": [
       "⎡3⋅cos(ω⋅t)⎤\n",
       "⎢──────────⎥\n",
       "⎢    2     ⎥\n",
       "⎢          ⎥\n",
       "⎢3⋅sin(ω⋅t)⎥\n",
       "⎢──────────⎥\n",
       "⎣    2     ⎦"
      ]
     },
     "execution_count": 6,
     "metadata": {},
     "output_type": "execute_result"
    }
   ],
   "source": [
    "r = Matrix([cos(w * t) - cos(-2 * pi / 3) * cos(w * t),\n",
    "            sqrt(3) * sin(w * t) * cos((pi / 6 - pi / 3 + pi / 2) / 2)])\n",
    "r"
   ]
  },
  {
   "cell_type": "code",
   "execution_count": 7,
   "metadata": {},
   "outputs": [
    {
     "data": {
      "text/latex": [
       "$\\displaystyle \\left[\\begin{matrix}\\cos{\\left(\\kappa_{1} \\right)} \\cos{\\left(\\omega t - \\phi_{1} \\right)} + \\cos{\\left(\\kappa_{2} \\right)} \\cos{\\left(\\omega t - \\phi_{2} \\right)} + \\cos{\\left(\\omega t \\right)}\\\\\\sin{\\left(\\kappa_{1} \\right)} \\cos{\\left(\\omega t - \\phi_{1} \\right)} + \\sin{\\left(\\kappa_{2} \\right)} \\cos{\\left(\\omega t - \\phi_{2} \\right)}\\end{matrix}\\right]$"
      ],
      "text/plain": [
       "⎡cos(κ₁)⋅cos(ω⋅t - φ₁) + cos(κ₂)⋅cos(ω⋅t - φ₂) + cos(ω⋅t)⎤\n",
       "⎢                                                        ⎥\n",
       "⎣     sin(κ₁)⋅cos(ω⋅t - φ₁) + sin(κ₂)⋅cos(ω⋅t - φ₂)      ⎦"
      ]
     },
     "execution_count": 7,
     "metadata": {},
     "output_type": "execute_result"
    }
   ],
   "source": [
    "r = Matrix([cos(w * t) + cos(kappa_1) * cos(w * t - phi_1) + cos(kappa_2) * cos(w * t - phi_2),\n",
    "            sin(kappa_1) * cos(w * t - phi_1) + sin(kappa_2) * cos(w * t - phi_2)])\n",
    "r"
   ]
  },
  {
   "cell_type": "code",
   "execution_count": 8,
   "metadata": {},
   "outputs": [
    {
     "data": {
      "text/latex": [
       "$\\displaystyle \\left[\\begin{matrix}\\cos{\\left(\\kappa_{1} \\right)} \\cos{\\left(\\phi_{1} \\right)} + \\cos{\\left(\\kappa_{2} \\right)} \\cos{\\left(\\phi_{2} \\right)} + 1\\\\\\sin{\\left(\\kappa_{1} \\right)} \\cos{\\left(\\phi_{1} \\right)} + \\sin{\\left(\\kappa_{2} \\right)} \\cos{\\left(\\phi_{2} \\right)}\\end{matrix}\\right]$"
      ],
      "text/plain": [
       "⎡cos(κ₁)⋅cos(φ₁) + cos(κ₂)⋅cos(φ₂) + 1⎤\n",
       "⎢                                     ⎥\n",
       "⎣  sin(κ₁)⋅cos(φ₁) + sin(κ₂)⋅cos(φ₂)  ⎦"
      ]
     },
     "execution_count": 8,
     "metadata": {},
     "output_type": "execute_result"
    }
   ],
   "source": [
    "r = Matrix([1 + cos(kappa_1) * cos(- phi_1) + cos(kappa_2) * cos(- phi_2),\n",
    "            sin(kappa_1) * cos(- phi_1) + sin(kappa_2) * cos(- phi_2)])\n",
    "r"
   ]
  },
  {
   "cell_type": "code",
   "execution_count": 9,
   "metadata": {},
   "outputs": [],
   "source": [
    "r = Matrix([1 + cos(kappa_1) * cos(- phi_1) + cos(kappa_2) * cos(- phi_2),\n",
    "            sin(kappa_1) * cos(- phi_1) + sin(kappa_2) * cos(- phi_2)])\n",
    "solve(r, [kappa_1, kappa_2])"
   ]
  }
 ],
 "metadata": {
  "interpreter": {
   "hash": "4e1d9a8909477db77738c33245c29c7265277ef753467dede8cf3f814cde494e"
  },
  "kernelspec": {
   "display_name": "Python 3.10.1 64-bit",
   "language": "python",
   "name": "python3"
  },
  "language_info": {
   "codemirror_mode": {
    "name": "ipython",
    "version": 3
   },
   "file_extension": ".py",
   "mimetype": "text/x-python",
   "name": "python",
   "nbconvert_exporter": "python",
   "pygments_lexer": "ipython3",
   "version": "3.10.2"
  },
  "orig_nbformat": 4
 },
 "nbformat": 4,
 "nbformat_minor": 2
}
